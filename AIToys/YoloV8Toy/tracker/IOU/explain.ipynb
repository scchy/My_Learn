{
 "cells": [
  {
   "cell_type": "code",
   "execution_count": 2,
   "metadata": {},
   "outputs": [
    {
     "data": {
      "text/plain": [
       "2"
      ]
     },
     "execution_count": 2,
     "metadata": {},
     "output_type": "execute_result"
    }
   ],
   "source": [
    "# MAX对dict的操作\n",
    "square = {2: \"aaaaaaaaa\", -3: \"bb\", -1: \"ccc\", -2: \"dddd\"}\n",
    "# 最大的key\n",
    "max(square)"
   ]
  },
  {
   "cell_type": "code",
   "execution_count": 7,
   "metadata": {},
   "outputs": [
    {
     "name": "stdout",
     "output_type": "stream",
     "text": [
      "拥有最大值的键:  -3\n"
     ]
    }
   ],
   "source": [
    "# 自定义函数，实现查找字典中最大值的键\n",
    "key2 = max(square, key = lambda x: x**2)\n",
    "print(\"拥有最大值的键: \", key2)"
   ]
  },
  {
   "cell_type": "code",
   "execution_count": 4,
   "metadata": {},
   "outputs": [
    {
     "name": "stdout",
     "output_type": "stream",
     "text": [
      "拥有最大值的键:  2\n",
      "最大值 :  aaaaaaaaa\n"
     ]
    }
   ],
   "source": [
    "\n",
    "# 查询value字符串最长的key与value\n",
    "key2 = max(square, key = lambda x: len(square[x]))\n",
    "print(\"拥有最大值的键: \", key2)\n",
    "print(\"最大值 : \", square[key2])"
   ]
  },
  {
   "cell_type": "code",
   "execution_count": 5,
   "metadata": {},
   "outputs": [
    {
     "data": {
      "text/plain": [
       "{'value': -3, 'name': 'cccc'}"
      ]
     },
     "execution_count": 5,
     "metadata": {},
     "output_type": "execute_result"
    }
   ],
   "source": [
    "# list 与 dict结合使用\n",
    "list_a = [{'value': -1, 'name': 'aa'}, {'value': -2, 'name': 'bbb'}, {'value': -3, 'name': 'cccc'}]\n",
    "# 寻找value平方最大的字典\n",
    "max(list_a, key=lambda x: (x['value'])**2)"
   ]
  },
  {
   "cell_type": "code",
   "execution_count": 6,
   "metadata": {},
   "outputs": [
    {
     "data": {
      "text/plain": [
       "{'value': -1, 'name': 'aa'}"
      ]
     },
     "execution_count": 6,
     "metadata": {},
     "output_type": "execute_result"
    }
   ],
   "source": [
    "# min的用法类似max：寻找name最短的字典\n",
    "min(list_a, key=lambda x: len(x['name']))"
   ]
  },
  {
   "cell_type": "markdown",
   "metadata": {},
   "source": [
    "## IOU示意\n",
    "![](https://enpei-md.oss-cn-hangzhou.aliyuncs.com/img202308042033463.png?x-oss-process=style/resize)"
   ]
  }
 ],
 "metadata": {
  "kernelspec": {
   "display_name": "live_demo",
   "language": "python",
   "name": "python3"
  },
  "language_info": {
   "codemirror_mode": {
    "name": "ipython",
    "version": 3
   },
   "file_extension": ".py",
   "mimetype": "text/x-python",
   "name": "python",
   "nbconvert_exporter": "python",
   "pygments_lexer": "ipython3",
   "version": "3.10.9"
  },
  "orig_nbformat": 4
 },
 "nbformat": 4,
 "nbformat_minor": 2
}
