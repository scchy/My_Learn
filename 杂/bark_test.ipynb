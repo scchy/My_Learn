{
 "cells": [
  {
   "cell_type": "markdown",
   "metadata": {},
   "source": [
    "# Basics"
   ]
  },
  {
   "cell_type": "code",
   "execution_count": 1,
   "metadata": {},
   "outputs": [],
   "source": [
    "from bark import SAMPLE_RATE, generate_audio, preload_models\n",
    "from scipy.io.wavfile import write as write_wave\n",
    "from IPython.display import Audio\n",
    "# SAMPLE_RATE"
   ]
  },
  {
   "cell_type": "code",
   "execution_count": 2,
   "metadata": {},
   "outputs": [],
   "source": [
    "# download and load all models\n",
    "# preload_models()"
   ]
  },
  {
   "cell_type": "code",
   "execution_count": 2,
   "metadata": {},
   "outputs": [
    {
     "ename": "LocalEntryNotFoundError",
     "evalue": "Connection error, and we cannot find the requested files in the disk cache. Please try again or make sure your Internet connection is on.",
     "output_type": "error",
     "traceback": [
      "\u001b[0;31m---------------------------------------------------------------------------\u001b[0m",
      "\u001b[0;31mLocalEntryNotFoundError\u001b[0m                   Traceback (most recent call last)",
      "Cell \u001b[0;32mIn[2], line 4\u001b[0m\n\u001b[1;32m      1\u001b[0m text_prompt \u001b[39m=\u001b[39m \u001b[39m\"\"\"\u001b[39m\n\u001b[1;32m      2\u001b[0m \u001b[39mHaha, I love you\u001b[39m\n\u001b[1;32m      3\u001b[0m \u001b[39m\"\"\"\u001b[39m\n\u001b[0;32m----> 4\u001b[0m audio_array \u001b[39m=\u001b[39m generate_audio(text_prompt)\n",
      "File \u001b[0;32m~/anaconda3/envs/speech2text/lib/python3.10/site-packages/bark/api.py:107\u001b[0m, in \u001b[0;36mgenerate_audio\u001b[0;34m(text, history_prompt, text_temp, waveform_temp, silent, output_full)\u001b[0m\n\u001b[1;32m     86\u001b[0m \u001b[39mdef\u001b[39;00m \u001b[39mgenerate_audio\u001b[39m(\n\u001b[1;32m     87\u001b[0m     text: \u001b[39mstr\u001b[39m,\n\u001b[1;32m     88\u001b[0m     history_prompt: Optional[Union[Dict, \u001b[39mstr\u001b[39m]] \u001b[39m=\u001b[39m \u001b[39mNone\u001b[39;00m,\n\u001b[0;32m   (...)\u001b[0m\n\u001b[1;32m     92\u001b[0m     output_full: \u001b[39mbool\u001b[39m \u001b[39m=\u001b[39m \u001b[39mFalse\u001b[39;00m,\n\u001b[1;32m     93\u001b[0m ):\n\u001b[1;32m     94\u001b[0m \u001b[39m    \u001b[39m\u001b[39m\"\"\"Generate audio array from input text.\u001b[39;00m\n\u001b[1;32m     95\u001b[0m \n\u001b[1;32m     96\u001b[0m \u001b[39m    Args:\u001b[39;00m\n\u001b[0;32m   (...)\u001b[0m\n\u001b[1;32m    105\u001b[0m \u001b[39m        numpy audio array at sample frequency 24khz\u001b[39;00m\n\u001b[1;32m    106\u001b[0m \u001b[39m    \"\"\"\u001b[39;00m\n\u001b[0;32m--> 107\u001b[0m     semantic_tokens \u001b[39m=\u001b[39m text_to_semantic(\n\u001b[1;32m    108\u001b[0m         text,\n\u001b[1;32m    109\u001b[0m         history_prompt\u001b[39m=\u001b[39;49mhistory_prompt,\n\u001b[1;32m    110\u001b[0m         temp\u001b[39m=\u001b[39;49mtext_temp,\n\u001b[1;32m    111\u001b[0m         silent\u001b[39m=\u001b[39;49msilent,\n\u001b[1;32m    112\u001b[0m     )\n\u001b[1;32m    113\u001b[0m     out \u001b[39m=\u001b[39m semantic_to_waveform(\n\u001b[1;32m    114\u001b[0m         semantic_tokens,\n\u001b[1;32m    115\u001b[0m         history_prompt\u001b[39m=\u001b[39mhistory_prompt,\n\u001b[0;32m   (...)\u001b[0m\n\u001b[1;32m    118\u001b[0m         output_full\u001b[39m=\u001b[39moutput_full,\n\u001b[1;32m    119\u001b[0m     )\n\u001b[1;32m    120\u001b[0m     \u001b[39mif\u001b[39;00m output_full:\n",
      "File \u001b[0;32m~/anaconda3/envs/speech2text/lib/python3.10/site-packages/bark/api.py:25\u001b[0m, in \u001b[0;36mtext_to_semantic\u001b[0;34m(text, history_prompt, temp, silent)\u001b[0m\n\u001b[1;32m      8\u001b[0m \u001b[39mdef\u001b[39;00m \u001b[39mtext_to_semantic\u001b[39m(\n\u001b[1;32m      9\u001b[0m     text: \u001b[39mstr\u001b[39m,\n\u001b[1;32m     10\u001b[0m     history_prompt: Optional[Union[Dict, \u001b[39mstr\u001b[39m]] \u001b[39m=\u001b[39m \u001b[39mNone\u001b[39;00m,\n\u001b[1;32m     11\u001b[0m     temp: \u001b[39mfloat\u001b[39m \u001b[39m=\u001b[39m \u001b[39m0.7\u001b[39m,\n\u001b[1;32m     12\u001b[0m     silent: \u001b[39mbool\u001b[39m \u001b[39m=\u001b[39m \u001b[39mFalse\u001b[39;00m,\n\u001b[1;32m     13\u001b[0m ):\n\u001b[1;32m     14\u001b[0m \u001b[39m    \u001b[39m\u001b[39m\"\"\"Generate semantic array from text.\u001b[39;00m\n\u001b[1;32m     15\u001b[0m \n\u001b[1;32m     16\u001b[0m \u001b[39m    Args:\u001b[39;00m\n\u001b[0;32m   (...)\u001b[0m\n\u001b[1;32m     23\u001b[0m \u001b[39m        numpy semantic array to be fed into `semantic_to_waveform`\u001b[39;00m\n\u001b[1;32m     24\u001b[0m \u001b[39m    \"\"\"\u001b[39;00m\n\u001b[0;32m---> 25\u001b[0m     x_semantic \u001b[39m=\u001b[39m generate_text_semantic(\n\u001b[1;32m     26\u001b[0m         text,\n\u001b[1;32m     27\u001b[0m         history_prompt\u001b[39m=\u001b[39;49mhistory_prompt,\n\u001b[1;32m     28\u001b[0m         temp\u001b[39m=\u001b[39;49mtemp,\n\u001b[1;32m     29\u001b[0m         silent\u001b[39m=\u001b[39;49msilent,\n\u001b[1;32m     30\u001b[0m         use_kv_caching\u001b[39m=\u001b[39;49m\u001b[39mTrue\u001b[39;49;00m\n\u001b[1;32m     31\u001b[0m     )\n\u001b[1;32m     32\u001b[0m     \u001b[39mreturn\u001b[39;00m x_semantic\n",
      "File \u001b[0;32m~/anaconda3/envs/speech2text/lib/python3.10/site-packages/bark/generation.py:409\u001b[0m, in \u001b[0;36mgenerate_text_semantic\u001b[0;34m(text, history_prompt, temp, top_k, top_p, silent, min_eos_p, max_gen_duration_s, allow_early_stop, use_kv_caching)\u001b[0m\n\u001b[1;32m    407\u001b[0m \u001b[39mglobal\u001b[39;00m models_devices\n\u001b[1;32m    408\u001b[0m \u001b[39mif\u001b[39;00m \u001b[39m\"\u001b[39m\u001b[39mtext\u001b[39m\u001b[39m\"\u001b[39m \u001b[39mnot\u001b[39;00m \u001b[39min\u001b[39;00m models:\n\u001b[0;32m--> 409\u001b[0m     preload_models()\n\u001b[1;32m    410\u001b[0m model_container \u001b[39m=\u001b[39m models[\u001b[39m\"\u001b[39m\u001b[39mtext\u001b[39m\u001b[39m\"\u001b[39m]\n\u001b[1;32m    411\u001b[0m model \u001b[39m=\u001b[39m model_container[\u001b[39m\"\u001b[39m\u001b[39mmodel\u001b[39m\u001b[39m\"\u001b[39m]\n",
      "File \u001b[0;32m~/anaconda3/envs/speech2text/lib/python3.10/site-packages/bark/generation.py:327\u001b[0m, in \u001b[0;36mpreload_models\u001b[0;34m(text_use_gpu, text_use_small, coarse_use_gpu, coarse_use_small, fine_use_gpu, fine_use_small, codec_use_gpu, force_reload)\u001b[0m\n\u001b[1;32m    318\u001b[0m _ \u001b[39m=\u001b[39m load_model(\n\u001b[1;32m    319\u001b[0m     model_type\u001b[39m=\u001b[39m\u001b[39m\"\u001b[39m\u001b[39mtext\u001b[39m\u001b[39m\"\u001b[39m, use_gpu\u001b[39m=\u001b[39mtext_use_gpu, use_small\u001b[39m=\u001b[39mtext_use_small, force_reload\u001b[39m=\u001b[39mforce_reload\n\u001b[1;32m    320\u001b[0m )\n\u001b[1;32m    321\u001b[0m _ \u001b[39m=\u001b[39m load_model(\n\u001b[1;32m    322\u001b[0m     model_type\u001b[39m=\u001b[39m\u001b[39m\"\u001b[39m\u001b[39mcoarse\u001b[39m\u001b[39m\"\u001b[39m,\n\u001b[1;32m    323\u001b[0m     use_gpu\u001b[39m=\u001b[39mcoarse_use_gpu,\n\u001b[1;32m    324\u001b[0m     use_small\u001b[39m=\u001b[39mcoarse_use_small,\n\u001b[1;32m    325\u001b[0m     force_reload\u001b[39m=\u001b[39mforce_reload,\n\u001b[1;32m    326\u001b[0m )\n\u001b[0;32m--> 327\u001b[0m _ \u001b[39m=\u001b[39m load_model(\n\u001b[1;32m    328\u001b[0m     model_type\u001b[39m=\u001b[39;49m\u001b[39m\"\u001b[39;49m\u001b[39mfine\u001b[39;49m\u001b[39m\"\u001b[39;49m, use_gpu\u001b[39m=\u001b[39;49mfine_use_gpu, use_small\u001b[39m=\u001b[39;49mfine_use_small, force_reload\u001b[39m=\u001b[39;49mforce_reload\n\u001b[1;32m    329\u001b[0m )\n\u001b[1;32m    330\u001b[0m _ \u001b[39m=\u001b[39m load_codec_model(use_gpu\u001b[39m=\u001b[39mcodec_use_gpu, force_reload\u001b[39m=\u001b[39mforce_reload)\n",
      "File \u001b[0;32m~/anaconda3/envs/speech2text/lib/python3.10/site-packages/bark/generation.py:275\u001b[0m, in \u001b[0;36mload_model\u001b[0;34m(use_gpu, use_small, force_reload, model_type)\u001b[0m\n\u001b[1;32m    273\u001b[0m     ckpt_path \u001b[39m=\u001b[39m _get_ckpt_path(model_type, use_small\u001b[39m=\u001b[39muse_small)\n\u001b[1;32m    274\u001b[0m     clean_models(model_key\u001b[39m=\u001b[39mmodel_key)\n\u001b[0;32m--> 275\u001b[0m     model \u001b[39m=\u001b[39m _load_model_f(ckpt_path, device)\n\u001b[1;32m    276\u001b[0m     models[model_key] \u001b[39m=\u001b[39m model\n\u001b[1;32m    277\u001b[0m \u001b[39mif\u001b[39;00m model_type \u001b[39m==\u001b[39m \u001b[39m\"\u001b[39m\u001b[39mtext\u001b[39m\u001b[39m\"\u001b[39m:\n",
      "File \u001b[0;32m~/anaconda3/envs/speech2text/lib/python3.10/site-packages/bark/generation.py:211\u001b[0m, in \u001b[0;36m_load_model\u001b[0;34m(ckpt_path, device, use_small, model_type)\u001b[0m\n\u001b[1;32m    209\u001b[0m \u001b[39mif\u001b[39;00m \u001b[39mnot\u001b[39;00m os\u001b[39m.\u001b[39mpath\u001b[39m.\u001b[39mexists(ckpt_path):\n\u001b[1;32m    210\u001b[0m     logger\u001b[39m.\u001b[39minfo(\u001b[39mf\u001b[39m\u001b[39m\"\u001b[39m\u001b[39m{\u001b[39;00mmodel_type\u001b[39m}\u001b[39;00m\u001b[39m model not found, downloading into `\u001b[39m\u001b[39m{\u001b[39;00mCACHE_DIR\u001b[39m}\u001b[39;00m\u001b[39m`.\u001b[39m\u001b[39m\"\u001b[39m)\n\u001b[0;32m--> 211\u001b[0m     _download(model_info[\u001b[39m\"\u001b[39;49m\u001b[39mrepo_id\u001b[39;49m\u001b[39m\"\u001b[39;49m], model_info[\u001b[39m\"\u001b[39;49m\u001b[39mfile_name\u001b[39;49m\u001b[39m\"\u001b[39;49m])\n\u001b[1;32m    212\u001b[0m checkpoint \u001b[39m=\u001b[39m torch\u001b[39m.\u001b[39mload(ckpt_path, map_location\u001b[39m=\u001b[39mdevice)\n\u001b[1;32m    213\u001b[0m \u001b[39m# this is a hack\u001b[39;00m\n",
      "File \u001b[0;32m~/anaconda3/envs/speech2text/lib/python3.10/site-packages/bark/generation.py:151\u001b[0m, in \u001b[0;36m_download\u001b[0;34m(from_hf_path, file_name)\u001b[0m\n\u001b[1;32m    149\u001b[0m \u001b[39mdef\u001b[39;00m \u001b[39m_download\u001b[39m(from_hf_path, file_name):\n\u001b[1;32m    150\u001b[0m     os\u001b[39m.\u001b[39mmakedirs(CACHE_DIR, exist_ok\u001b[39m=\u001b[39m\u001b[39mTrue\u001b[39;00m)\n\u001b[0;32m--> 151\u001b[0m     hf_hub_download(repo_id\u001b[39m=\u001b[39;49mfrom_hf_path, filename\u001b[39m=\u001b[39;49mfile_name, local_dir\u001b[39m=\u001b[39;49mCACHE_DIR)\n",
      "File \u001b[0;32m~/anaconda3/envs/speech2text/lib/python3.10/site-packages/huggingface_hub/utils/_validators.py:118\u001b[0m, in \u001b[0;36mvalidate_hf_hub_args.<locals>._inner_fn\u001b[0;34m(*args, **kwargs)\u001b[0m\n\u001b[1;32m    115\u001b[0m \u001b[39mif\u001b[39;00m check_use_auth_token:\n\u001b[1;32m    116\u001b[0m     kwargs \u001b[39m=\u001b[39m smoothly_deprecate_use_auth_token(fn_name\u001b[39m=\u001b[39mfn\u001b[39m.\u001b[39m\u001b[39m__name__\u001b[39m, has_token\u001b[39m=\u001b[39mhas_token, kwargs\u001b[39m=\u001b[39mkwargs)\n\u001b[0;32m--> 118\u001b[0m \u001b[39mreturn\u001b[39;00m fn(\u001b[39m*\u001b[39;49margs, \u001b[39m*\u001b[39;49m\u001b[39m*\u001b[39;49mkwargs)\n",
      "File \u001b[0;32m~/anaconda3/envs/speech2text/lib/python3.10/site-packages/huggingface_hub/file_download.py:1291\u001b[0m, in \u001b[0;36mhf_hub_download\u001b[0;34m(repo_id, filename, subfolder, repo_type, revision, library_name, library_version, cache_dir, local_dir, local_dir_use_symlinks, user_agent, force_download, force_filename, proxies, etag_timeout, resume_download, token, local_files_only, legacy_cache_layout)\u001b[0m\n\u001b[1;32m   1285\u001b[0m         \u001b[39mraise\u001b[39;00m LocalEntryNotFoundError(\n\u001b[1;32m   1286\u001b[0m             \u001b[39m\"\u001b[39m\u001b[39mCannot find the requested files in the disk cache and\u001b[39m\u001b[39m\"\u001b[39m\n\u001b[1;32m   1287\u001b[0m             \u001b[39m\"\u001b[39m\u001b[39m outgoing traffic has been disabled. To enable hf.co look-ups\u001b[39m\u001b[39m\"\u001b[39m\n\u001b[1;32m   1288\u001b[0m             \u001b[39m\"\u001b[39m\u001b[39m and downloads online, set \u001b[39m\u001b[39m'\u001b[39m\u001b[39mlocal_files_only\u001b[39m\u001b[39m'\u001b[39m\u001b[39m to False.\u001b[39m\u001b[39m\"\u001b[39m\n\u001b[1;32m   1289\u001b[0m         )\n\u001b[1;32m   1290\u001b[0m     \u001b[39melse\u001b[39;00m:\n\u001b[0;32m-> 1291\u001b[0m         \u001b[39mraise\u001b[39;00m LocalEntryNotFoundError(\n\u001b[1;32m   1292\u001b[0m             \u001b[39m\"\u001b[39m\u001b[39mConnection error, and we cannot find the requested files in\u001b[39m\u001b[39m\"\u001b[39m\n\u001b[1;32m   1293\u001b[0m             \u001b[39m\"\u001b[39m\u001b[39m the disk cache. Please try again or make sure your Internet\u001b[39m\u001b[39m\"\u001b[39m\n\u001b[1;32m   1294\u001b[0m             \u001b[39m\"\u001b[39m\u001b[39m connection is on.\u001b[39m\u001b[39m\"\u001b[39m\n\u001b[1;32m   1295\u001b[0m         )\n\u001b[1;32m   1297\u001b[0m \u001b[39m# From now on, etag and commit_hash are not None.\u001b[39;00m\n\u001b[1;32m   1298\u001b[0m \u001b[39massert\u001b[39;00m etag \u001b[39mis\u001b[39;00m \u001b[39mnot\u001b[39;00m \u001b[39mNone\u001b[39;00m, \u001b[39m\"\u001b[39m\u001b[39metag must have been retrieved from server\u001b[39m\u001b[39m\"\u001b[39m\n",
      "\u001b[0;31mLocalEntryNotFoundError\u001b[0m: Connection error, and we cannot find the requested files in the disk cache. Please try again or make sure your Internet connection is on."
     ]
    }
   ],
   "source": [
    "text_prompt = \"\"\"\n",
    "Haha, I love you\n",
    "\"\"\"\n",
    "audio_array = generate_audio(text_prompt)\n"
   ]
  },
  {
   "cell_type": "code",
   "execution_count": 25,
   "metadata": {},
   "outputs": [
    {
     "ename": "NameError",
     "evalue": "name 'audio_array' is not defined",
     "output_type": "error",
     "traceback": [
      "\u001b[0;31m---------------------------------------------------------------------------\u001b[0m",
      "\u001b[0;31mNameError\u001b[0m                                 Traceback (most recent call last)",
      "Cell \u001b[0;32mIn[25], line 1\u001b[0m\n\u001b[0;32m----> 1\u001b[0m write_wave(\u001b[39m\"\u001b[39m\u001b[39mbark_generation.wav\u001b[39m\u001b[39m\"\u001b[39m, SAMPLE_RATE, audio_array)\n\u001b[1;32m      3\u001b[0m \u001b[39m# play text in notebook\u001b[39;00m\n\u001b[1;32m      4\u001b[0m Audio(audio_array, rate\u001b[39m=\u001b[39mSAMPLE_RATE)\n",
      "\u001b[0;31mNameError\u001b[0m: name 'audio_array' is not defined"
     ]
    }
   ],
   "source": [
    "write_wave(\"bark_generation.wav\", SAMPLE_RATE, audio_array)\n",
    "  \n",
    "# play text in notebook\n",
    "Audio(audio_array, rate=SAMPLE_RATE)"
   ]
  },
  {
   "cell_type": "code",
   "execution_count": null,
   "metadata": {},
   "outputs": [],
   "source": []
  }
 ],
 "metadata": {
  "kernelspec": {
   "display_name": "speech2text",
   "language": "python",
   "name": "python3"
  },
  "language_info": {
   "codemirror_mode": {
    "name": "ipython",
    "version": 3
   },
   "file_extension": ".py",
   "mimetype": "text/x-python",
   "name": "python",
   "nbconvert_exporter": "python",
   "pygments_lexer": "ipython3",
   "version": "3.10.9"
  },
  "orig_nbformat": 4
 },
 "nbformat": 4,
 "nbformat_minor": 2
}
